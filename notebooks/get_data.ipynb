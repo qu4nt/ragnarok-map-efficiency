{
 "cells": [
  {
   "cell_type": "code",
   "execution_count": 18,
   "metadata": {},
   "outputs": [],
   "source": [
    "import pandas as pd\n",
    "import numpy as np\n",
    "import matplotlib.pyplot as plt\n",
    "from unicodedata import normalize"
   ]
  },
  {
   "cell_type": "code",
   "execution_count": 19,
   "metadata": {},
   "outputs": [],
   "source": [
    "import requests"
   ]
  },
  {
   "cell_type": "code",
   "execution_count": 20,
   "metadata": {},
   "outputs": [],
   "source": [
    "url = 'https://cp.originsro.org/item/view/?id=502'\n",
    "\n",
    "header = {\n",
    "  \"User-Agent\": \"Mozilla/5.0 (X11; Linux x86_64) AppleWebKit/537.36 (KHTML, like Gecko) Chrome/50.0.2661.75 Safari/537.36\",\n",
    "  \"X-Requested-With\": \"XMLHttpRequest\"\n",
    "}\n",
    "\n",
    "r = requests.get(url, headers=header)"
   ]
  },
  {
   "cell_type": "code",
   "execution_count": 14,
   "metadata": {},
   "outputs": [],
   "source": [
    "tables_rp = pd.read_html(r.text)"
   ]
  },
  {
   "cell_type": "code",
   "execution_count": 21,
   "metadata": {},
   "outputs": [],
   "source": [
    "keys = [\"basic_info\", \"details\", \"stats\", \"restrictions\", \"scripts\"]\n",
    "tables = {}\n",
    "for key, table in zip(keys, tables_rp):\n",
    "    tables[key] = table "
   ]
  },
  {
   "cell_type": "code",
   "execution_count": 26,
   "metadata": {},
   "outputs": [],
   "source": [
    "from IPython.core.display import HTML"
   ]
  },
  {
   "cell_type": "code",
   "execution_count": 29,
   "metadata": {},
   "outputs": [
    {
     "name": "stdout",
     "output_type": "stream",
     "text": [
      "         0                   1\n",
      "0     Name          Red Potion\n",
      "1  Item ID  501  -  Red_Potion\n",
      "2     Type             Healing\n",
      "                 0     1\n",
      "0           Weight     7\n",
      "1          NPC Buy  50 z\n",
      "2         NPC Sell  25 z\n",
      "3       Refineable    No\n",
      "4  Equip Locations  None\n",
      "              0  1\n",
      "0         Range  0\n",
      "1       Defense  0\n",
      "2        Attack  0\n",
      "3  Weapon Level  0\n",
      "4         Slots  0\n",
      "                 0                      1\n",
      "0      Level Range                    Any\n",
      "1            Usage                   None\n",
      "2            Trade                   None\n",
      "3  Job Class Types  Normal / Upper / Baby\n",
      "4      Job Classes               All Jobs\n",
      "5           Gender                    Any\n",
      "                Use Script\n",
      "0  itemheal rand(45,65),0;\n",
      "1             Equip Script\n",
      "2                     None\n",
      "3           Unequip Script\n",
      "4                     None\n"
     ]
    }
   ],
   "source": [
    "for key in tables.keys():\n",
    "    print(tables[key])"
   ]
  },
  {
   "cell_type": "code",
   "execution_count": 5,
   "metadata": {},
   "outputs": [],
   "source": [
    "table_rp_basic_info = pd.read_html(r.text, match='Name')"
   ]
  },
  {
   "cell_type": "code",
   "execution_count": 13,
   "metadata": {},
   "outputs": [
    {
     "data": {
      "text/html": [
       "<div>\n",
       "<style scoped>\n",
       "    .dataframe tbody tr th:only-of-type {\n",
       "        vertical-align: middle;\n",
       "    }\n",
       "\n",
       "    .dataframe tbody tr th {\n",
       "        vertical-align: top;\n",
       "    }\n",
       "\n",
       "    .dataframe thead th {\n",
       "        text-align: right;\n",
       "    }\n",
       "</style>\n",
       "<table border=\"1\" class=\"dataframe\">\n",
       "  <thead>\n",
       "    <tr style=\"text-align: right;\">\n",
       "      <th></th>\n",
       "      <th>0</th>\n",
       "      <th>1</th>\n",
       "    </tr>\n",
       "  </thead>\n",
       "  <tbody>\n",
       "    <tr>\n",
       "      <th>0</th>\n",
       "      <td>Name</td>\n",
       "      <td>Red Potion</td>\n",
       "    </tr>\n",
       "    <tr>\n",
       "      <th>1</th>\n",
       "      <td>Item ID</td>\n",
       "      <td>501  -  Red_Potion</td>\n",
       "    </tr>\n",
       "    <tr>\n",
       "      <th>2</th>\n",
       "      <td>Type</td>\n",
       "      <td>Healing</td>\n",
       "    </tr>\n",
       "  </tbody>\n",
       "</table>\n",
       "</div>"
      ],
      "text/plain": [
       "         0                   1\n",
       "0     Name          Red Potion\n",
       "1  Item ID  501  -  Red_Potion\n",
       "2     Type             Healing"
      ]
     },
     "execution_count": 13,
     "metadata": {},
     "output_type": "execute_result"
    }
   ],
   "source": [
    "table_rp_basic_info[0]"
   ]
  },
  {
   "cell_type": "code",
   "execution_count": 11,
   "metadata": {},
   "outputs": [],
   "source": [
    "table_rp_details = pd.read_html(r.text, match='Weight')"
   ]
  },
  {
   "cell_type": "code",
   "execution_count": 12,
   "metadata": {},
   "outputs": [
    {
     "data": {
      "text/plain": [
       "[                 0     1\n",
       " 0           Weight     7\n",
       " 1          NPC Buy  50 z\n",
       " 2         NPC Sell  25 z\n",
       " 3       Refineable    No\n",
       " 4  Equip Locations  None]"
      ]
     },
     "execution_count": 12,
     "metadata": {},
     "output_type": "execute_result"
    }
   ],
   "source": [
    "table_rp_details"
   ]
  },
  {
   "cell_type": "code",
   "execution_count": null,
   "metadata": {},
   "outputs": [],
   "source": [
    "table_rp_stats = pd.read_html(r.text, match='Range')"
   ]
  }
 ],
 "metadata": {
  "interpreter": {
   "hash": "56c00ddec8da26441ab1806fead83969666443ba203eebed0498938c67695049"
  },
  "kernelspec": {
   "display_name": "Python 3.9.9 64-bit ('venv': venv)",
   "language": "python",
   "name": "python3"
  },
  "language_info": {
   "codemirror_mode": {
    "name": "ipython",
    "version": 3
   },
   "file_extension": ".py",
   "mimetype": "text/x-python",
   "name": "python",
   "nbconvert_exporter": "python",
   "pygments_lexer": "ipython3",
   "version": "3.9.9"
  },
  "orig_nbformat": 4
 },
 "nbformat": 4,
 "nbformat_minor": 2
}
